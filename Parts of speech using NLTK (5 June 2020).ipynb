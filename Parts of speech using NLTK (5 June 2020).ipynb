{
 "cells": [
  {
   "cell_type": "markdown",
   "metadata": {},
   "source": [
    "# Parts Of Speech Using NLTK"
   ]
  },
  {
   "cell_type": "code",
   "execution_count": 27,
   "metadata": {},
   "outputs": [],
   "source": [
    "import nltk"
   ]
  },
  {
   "cell_type": "code",
   "execution_count": 28,
   "metadata": {},
   "outputs": [],
   "source": [
    "from nltk.tokenize import word_tokenize"
   ]
  },
  {
   "cell_type": "code",
   "execution_count": 29,
   "metadata": {},
   "outputs": [],
   "source": [
    "text = word_tokenize('He is clever but lazy')"
   ]
  },
  {
   "cell_type": "code",
   "execution_count": 30,
   "metadata": {},
   "outputs": [
    {
     "data": {
      "text/plain": [
       "[('He', 'PRP'), ('is', 'VBZ'), ('clever', 'JJ'), ('but', 'CC'), ('lazy', 'JJ')]"
      ]
     },
     "execution_count": 30,
     "metadata": {},
     "output_type": "execute_result"
    }
   ],
   "source": [
    "nltk.pos_tag(text)"
   ]
  },
  {
   "cell_type": "code",
   "execution_count": 31,
   "metadata": {},
   "outputs": [],
   "source": [
    "# here the first refuse is a verb and the other is a noun.\n",
    "text1 = word_tokenize('They refuse to permit us to obtain the refuse permit')"
   ]
  },
  {
   "cell_type": "code",
   "execution_count": 32,
   "metadata": {},
   "outputs": [
    {
     "data": {
      "text/plain": [
       "[('They', 'PRP'),\n",
       " ('refuse', 'VBP'),\n",
       " ('to', 'TO'),\n",
       " ('permit', 'VB'),\n",
       " ('us', 'PRP'),\n",
       " ('to', 'TO'),\n",
       " ('obtain', 'VB'),\n",
       " ('the', 'DT'),\n",
       " ('refuse', 'NN'),\n",
       " ('permit', 'NN')]"
      ]
     },
     "execution_count": 32,
     "metadata": {},
     "output_type": "execute_result"
    }
   ],
   "source": [
    "nltk.pos_tag(text1)"
   ]
  },
  {
   "cell_type": "code",
   "execution_count": 33,
   "metadata": {},
   "outputs": [
    {
     "name": "stdout",
     "output_type": "stream",
     "text": [
      "0\n",
      "1\n",
      "2\n",
      "3\n"
     ]
    }
   ],
   "source": [
    "# inline for loop\n",
    "a = [print(i) for i in range(0,4)]"
   ]
  },
  {
   "cell_type": "code",
   "execution_count": 34,
   "metadata": {},
   "outputs": [],
   "source": [
    "word = nltk.Text(i.lower() for i in nltk.corpus.brown.words())"
   ]
  },
  {
   "cell_type": "code",
   "execution_count": 35,
   "metadata": {},
   "outputs": [
    {
     "data": {
      "text/plain": [
       "nltk.text.Text"
      ]
     },
     "execution_count": 35,
     "metadata": {},
     "output_type": "execute_result"
    }
   ],
   "source": [
    "type(word)"
   ]
  },
  {
   "cell_type": "code",
   "execution_count": 36,
   "metadata": {},
   "outputs": [
    {
     "name": "stdout",
     "output_type": "stream",
     "text": [
      "man time day year car moment world house family child country boy\n",
      "state job place way war girl work word\n"
     ]
    }
   ],
   "source": [
    "word.similar('woman')"
   ]
  },
  {
   "cell_type": "code",
   "execution_count": 11,
   "metadata": {},
   "outputs": [
    {
     "name": "stdout",
     "output_type": "stream",
     "text": [
      "made received done obtained found taken accepted seen available called\n",
      "used known discovered dropped derived in had charged employed asked\n"
     ]
    }
   ],
   "source": [
    "word.similar('purchased')"
   ]
  },
  {
   "cell_type": "code",
   "execution_count": 12,
   "metadata": {},
   "outputs": [
    {
     "name": "stdout",
     "output_type": "stream",
     "text": [
      "that it has failure not up john go got now island going once difficult\n",
      "half try talk pointing trying speak\n"
     ]
    }
   ],
   "source": [
    "word.similar('hi')"
   ]
  },
  {
   "cell_type": "code",
   "execution_count": 13,
   "metadata": {},
   "outputs": [
    {
     "name": "stdout",
     "output_type": "stream",
     "text": [
      "of on and to for with at from by as that is was but when into the over\n",
      "if all\n"
     ]
    }
   ],
   "source": [
    "word.similar('in')"
   ]
  },
  {
   "cell_type": "code",
   "execution_count": 37,
   "metadata": {},
   "outputs": [
    {
     "data": {
      "text/plain": [
       "('fly', 'NN')"
      ]
     },
     "execution_count": 37,
     "metadata": {},
     "output_type": "execute_result"
    }
   ],
   "source": [
    "#tagged tokens\n",
    "tag = nltk.tag.str2tuple('fly/NN')\n",
    "tag"
   ]
  },
  {
   "cell_type": "code",
   "execution_count": 38,
   "metadata": {},
   "outputs": [
    {
     "data": {
      "text/plain": [
       "[('The', 'DET'), ('Fulton', 'NOUN'), ...]"
      ]
     },
     "execution_count": 38,
     "metadata": {},
     "output_type": "execute_result"
    }
   ],
   "source": [
    "nltk.corpus.brown.tagged_words(tagset = 'universal')"
   ]
  },
  {
   "cell_type": "code",
   "execution_count": 39,
   "metadata": {},
   "outputs": [
    {
     "data": {
      "text/plain": [
       "[('মহিষের', 'NN'), ('সন্তান', 'NN'), (':', 'SYM'), ...]"
      ]
     },
     "execution_count": 39,
     "metadata": {},
     "output_type": "execute_result"
    }
   ],
   "source": [
    "nltk.corpus.indian.tagged_words()"
   ]
  },
  {
   "cell_type": "code",
   "execution_count": 40,
   "metadata": {},
   "outputs": [
    {
     "data": {
      "text/plain": [
       "[('一', 'Neu'), ('友情', 'Nad'), ('嘉珍', 'Nba'), ...]"
      ]
     },
     "execution_count": 40,
     "metadata": {},
     "output_type": "execute_result"
    }
   ],
   "source": [
    "nltk.corpus.sinica_treebank.tagged_words()"
   ]
  },
  {
   "cell_type": "code",
   "execution_count": null,
   "metadata": {},
   "outputs": [],
   "source": [
    "# universal parts of speech tagset includes:\n",
    "# ADJ - adjective\n",
    "# ADP - adposition\n",
    "# ADV - adverb\n",
    "# CONJ - conjuction\n",
    "# NN - noun\n",
    "# NUM - numeral"
   ]
  },
  {
   "cell_type": "code",
   "execution_count": 41,
   "metadata": {},
   "outputs": [],
   "source": [
    "from nltk.corpus import brown"
   ]
  },
  {
   "cell_type": "code",
   "execution_count": 42,
   "metadata": {},
   "outputs": [],
   "source": [
    "brown_words = brown.tagged_words(categories = 'news', tagset = 'universal')"
   ]
  },
  {
   "cell_type": "code",
   "execution_count": 43,
   "metadata": {},
   "outputs": [
    {
     "data": {
      "text/plain": [
       "[('The', 'DET'), ('Fulton', 'NOUN'), ...]"
      ]
     },
     "execution_count": 43,
     "metadata": {},
     "output_type": "execute_result"
    }
   ],
   "source": [
    "brown_words"
   ]
  },
  {
   "cell_type": "code",
   "execution_count": 44,
   "metadata": {},
   "outputs": [],
   "source": [
    "fd = nltk.FreqDist(tag for(word,tag) in brown_words)"
   ]
  },
  {
   "cell_type": "code",
   "execution_count": 45,
   "metadata": {},
   "outputs": [
    {
     "data": {
      "text/plain": [
       "FreqDist({'NOUN': 30654, 'VERB': 14399, 'ADP': 12355, '.': 11928, 'DET': 11389, 'ADJ': 6706, 'ADV': 3349, 'CONJ': 2717, 'PRON': 2535, 'PRT': 2264, ...})"
      ]
     },
     "execution_count": 45,
     "metadata": {},
     "output_type": "execute_result"
    }
   ],
   "source": [
    "fd"
   ]
  },
  {
   "cell_type": "code",
   "execution_count": 46,
   "metadata": {},
   "outputs": [
    {
     "data": {
      "text/plain": [
       "[('NOUN', 30654),\n",
       " ('VERB', 14399),\n",
       " ('ADP', 12355),\n",
       " ('.', 11928),\n",
       " ('DET', 11389),\n",
       " ('ADJ', 6706),\n",
       " ('ADV', 3349),\n",
       " ('CONJ', 2717),\n",
       " ('PRON', 2535),\n",
       " ('PRT', 2264),\n",
       " ('NUM', 2166),\n",
       " ('X', 92)]"
      ]
     },
     "execution_count": 46,
     "metadata": {},
     "output_type": "execute_result"
    }
   ],
   "source": [
    "fd.most_common()"
   ]
  },
  {
   "cell_type": "markdown",
   "metadata": {},
   "source": [
    "# bigrams , trigrams, ngrams"
   ]
  },
  {
   "cell_type": "code",
   "execution_count": 47,
   "metadata": {},
   "outputs": [],
   "source": [
    "tags = nltk.bigrams(brown_words)"
   ]
  },
  {
   "cell_type": "code",
   "execution_count": 49,
   "metadata": {},
   "outputs": [
    {
     "data": {
      "text/plain": [
       "<generator object bigrams at 0x000001F6402C2F48>"
      ]
     },
     "execution_count": 49,
     "metadata": {},
     "output_type": "execute_result"
    }
   ],
   "source": [
    "tags"
   ]
  },
  {
   "cell_type": "code",
   "execution_count": 50,
   "metadata": {},
   "outputs": [
    {
     "data": {
      "text/plain": [
       "[(('The', 'DET'), ('Fulton', 'NOUN')),\n",
       " (('Fulton', 'NOUN'), ('County', 'NOUN')),\n",
       " (('County', 'NOUN'), ('Grand', 'ADJ')),\n",
       " (('Grand', 'ADJ'), ('Jury', 'NOUN')),\n",
       " (('Jury', 'NOUN'), ('said', 'VERB')),\n",
       " (('said', 'VERB'), ('Friday', 'NOUN')),\n",
       " (('Friday', 'NOUN'), ('an', 'DET')),\n",
       " (('an', 'DET'), ('investigation', 'NOUN')),\n",
       " (('investigation', 'NOUN'), ('of', 'ADP')),\n",
       " (('of', 'ADP'), (\"Atlanta's\", 'NOUN')),\n",
       " ((\"Atlanta's\", 'NOUN'), ('recent', 'ADJ')),\n",
       " (('recent', 'ADJ'), ('primary', 'NOUN')),\n",
       " (('primary', 'NOUN'), ('election', 'NOUN')),\n",
       " (('election', 'NOUN'), ('produced', 'VERB')),\n",
       " (('produced', 'VERB'), ('``', '.')),\n",
       " (('``', '.'), ('no', 'DET')),\n",
       " (('no', 'DET'), ('evidence', 'NOUN')),\n",
       " (('evidence', 'NOUN'), (\"''\", '.')),\n",
       " ((\"''\", '.'), ('that', 'ADP')),\n",
       " (('that', 'ADP'), ('any', 'DET')),\n",
       " (('any', 'DET'), ('irregularities', 'NOUN')),\n",
       " (('irregularities', 'NOUN'), ('took', 'VERB')),\n",
       " (('took', 'VERB'), ('place', 'NOUN')),\n",
       " (('place', 'NOUN'), ('.', '.')),\n",
       " (('.', '.'), ('The', 'DET')),\n",
       " (('The', 'DET'), ('jury', 'NOUN')),\n",
       " (('jury', 'NOUN'), ('further', 'ADV')),\n",
       " (('further', 'ADV'), ('said', 'VERB')),\n",
       " (('said', 'VERB'), ('in', 'ADP')),\n",
       " (('in', 'ADP'), ('term-end', 'NOUN')),\n",
       " (('term-end', 'NOUN'), ('presentments', 'NOUN')),\n",
       " (('presentments', 'NOUN'), ('that', 'ADP')),\n",
       " (('that', 'ADP'), ('the', 'DET')),\n",
       " (('the', 'DET'), ('City', 'NOUN')),\n",
       " (('City', 'NOUN'), ('Executive', 'ADJ')),\n",
       " (('Executive', 'ADJ'), ('Committee', 'NOUN')),\n",
       " (('Committee', 'NOUN'), (',', '.')),\n",
       " ((',', '.'), ('which', 'DET')),\n",
       " (('which', 'DET'), ('had', 'VERB')),\n",
       " (('had', 'VERB'), ('over-all', 'ADJ')),\n",
       " (('over-all', 'ADJ'), ('charge', 'NOUN')),\n",
       " (('charge', 'NOUN'), ('of', 'ADP')),\n",
       " (('of', 'ADP'), ('the', 'DET')),\n",
       " (('the', 'DET'), ('election', 'NOUN')),\n",
       " (('election', 'NOUN'), (',', '.')),\n",
       " ((',', '.'), ('``', '.')),\n",
       " (('``', '.'), ('deserves', 'VERB')),\n",
       " (('deserves', 'VERB'), ('the', 'DET')),\n",
       " (('the', 'DET'), ('praise', 'NOUN')),\n",
       " (('praise', 'NOUN'), ('and', 'CONJ')),\n",
       " (('and', 'CONJ'), ('thanks', 'NOUN')),\n",
       " (('thanks', 'NOUN'), ('of', 'ADP')),\n",
       " (('of', 'ADP'), ('the', 'DET')),\n",
       " (('the', 'DET'), ('City', 'NOUN')),\n",
       " (('City', 'NOUN'), ('of', 'ADP')),\n",
       " (('of', 'ADP'), ('Atlanta', 'NOUN')),\n",
       " (('Atlanta', 'NOUN'), (\"''\", '.')),\n",
       " ((\"''\", '.'), ('for', 'ADP')),\n",
       " (('for', 'ADP'), ('the', 'DET')),\n",
       " (('the', 'DET'), ('manner', 'NOUN')),\n",
       " (('manner', 'NOUN'), ('in', 'ADP')),\n",
       " (('in', 'ADP'), ('which', 'DET')),\n",
       " (('which', 'DET'), ('the', 'DET')),\n",
       " (('the', 'DET'), ('election', 'NOUN')),\n",
       " (('election', 'NOUN'), ('was', 'VERB')),\n",
       " (('was', 'VERB'), ('conducted', 'VERB')),\n",
       " (('conducted', 'VERB'), ('.', '.')),\n",
       " (('.', '.'), ('The', 'DET')),\n",
       " (('The', 'DET'), ('September-October', 'NOUN')),\n",
       " (('September-October', 'NOUN'), ('term', 'NOUN')),\n",
       " (('term', 'NOUN'), ('jury', 'NOUN')),\n",
       " (('jury', 'NOUN'), ('had', 'VERB')),\n",
       " (('had', 'VERB'), ('been', 'VERB')),\n",
       " (('been', 'VERB'), ('charged', 'VERB')),\n",
       " (('charged', 'VERB'), ('by', 'ADP')),\n",
       " (('by', 'ADP'), ('Fulton', 'NOUN')),\n",
       " (('Fulton', 'NOUN'), ('Superior', 'ADJ')),\n",
       " (('Superior', 'ADJ'), ('Court', 'NOUN')),\n",
       " (('Court', 'NOUN'), ('Judge', 'NOUN')),\n",
       " (('Judge', 'NOUN'), ('Durwood', 'NOUN')),\n",
       " (('Durwood', 'NOUN'), ('Pye', 'NOUN')),\n",
       " (('Pye', 'NOUN'), ('to', 'PRT')),\n",
       " (('to', 'PRT'), ('investigate', 'VERB')),\n",
       " (('investigate', 'VERB'), ('reports', 'NOUN')),\n",
       " (('reports', 'NOUN'), ('of', 'ADP')),\n",
       " (('of', 'ADP'), ('possible', 'ADJ')),\n",
       " (('possible', 'ADJ'), ('``', '.')),\n",
       " (('``', '.'), ('irregularities', 'NOUN')),\n",
       " (('irregularities', 'NOUN'), (\"''\", '.')),\n",
       " ((\"''\", '.'), ('in', 'ADP')),\n",
       " (('in', 'ADP'), ('the', 'DET')),\n",
       " (('the', 'DET'), ('hard-fought', 'ADJ')),\n",
       " (('hard-fought', 'ADJ'), ('primary', 'NOUN')),\n",
       " (('primary', 'NOUN'), ('which', 'DET')),\n",
       " (('which', 'DET'), ('was', 'VERB')),\n",
       " (('was', 'VERB'), ('won', 'VERB')),\n",
       " (('won', 'VERB'), ('by', 'ADP')),\n",
       " (('by', 'ADP'), ('Mayor-nominate', 'NOUN')),\n",
       " (('Mayor-nominate', 'NOUN'), ('Ivan', 'NOUN')),\n",
       " (('Ivan', 'NOUN'), ('Allen', 'NOUN')),\n",
       " (('Allen', 'NOUN'), ('Jr.', 'NOUN')),\n",
       " (('Jr.', 'NOUN'), ('.', '.')),\n",
       " (('.', '.'), ('``', '.')),\n",
       " (('``', '.'), ('Only', 'ADV')),\n",
       " (('Only', 'ADV'), ('a', 'DET')),\n",
       " (('a', 'DET'), ('relative', 'ADJ')),\n",
       " (('relative', 'ADJ'), ('handful', 'NOUN')),\n",
       " (('handful', 'NOUN'), ('of', 'ADP')),\n",
       " (('of', 'ADP'), ('such', 'ADJ')),\n",
       " (('such', 'ADJ'), ('reports', 'NOUN')),\n",
       " (('reports', 'NOUN'), ('was', 'VERB')),\n",
       " (('was', 'VERB'), ('received', 'VERB')),\n",
       " (('received', 'VERB'), (\"''\", '.')),\n",
       " ((\"''\", '.'), (',', '.')),\n",
       " ((',', '.'), ('the', 'DET')),\n",
       " (('the', 'DET'), ('jury', 'NOUN')),\n",
       " (('jury', 'NOUN'), ('said', 'VERB')),\n",
       " (('said', 'VERB'), (',', '.')),\n",
       " ((',', '.'), ('``', '.')),\n",
       " (('``', '.'), ('considering', 'ADP')),\n",
       " (('considering', 'ADP'), ('the', 'DET')),\n",
       " (('the', 'DET'), ('widespread', 'ADJ')),\n",
       " (('widespread', 'ADJ'), ('interest', 'NOUN')),\n",
       " (('interest', 'NOUN'), ('in', 'ADP')),\n",
       " (('in', 'ADP'), ('the', 'DET')),\n",
       " (('the', 'DET'), ('election', 'NOUN')),\n",
       " (('election', 'NOUN'), (',', '.')),\n",
       " ((',', '.'), ('the', 'DET')),\n",
       " (('the', 'DET'), ('number', 'NOUN')),\n",
       " (('number', 'NOUN'), ('of', 'ADP')),\n",
       " (('of', 'ADP'), ('voters', 'NOUN')),\n",
       " (('voters', 'NOUN'), ('and', 'CONJ')),\n",
       " (('and', 'CONJ'), ('the', 'DET')),\n",
       " (('the', 'DET'), ('size', 'NOUN')),\n",
       " (('size', 'NOUN'), ('of', 'ADP')),\n",
       " (('of', 'ADP'), ('this', 'DET')),\n",
       " (('this', 'DET'), ('city', 'NOUN')),\n",
       " (('city', 'NOUN'), (\"''\", '.')),\n",
       " ((\"''\", '.'), ('.', '.')),\n",
       " (('.', '.'), ('The', 'DET')),\n",
       " (('The', 'DET'), ('jury', 'NOUN')),\n",
       " (('jury', 'NOUN'), ('said', 'VERB')),\n",
       " (('said', 'VERB'), ('it', 'PRON')),\n",
       " (('it', 'PRON'), ('did', 'VERB')),\n",
       " (('did', 'VERB'), ('find', 'VERB')),\n",
       " (('find', 'VERB'), ('that', 'ADP')),\n",
       " (('that', 'ADP'), ('many', 'ADJ')),\n",
       " (('many', 'ADJ'), ('of', 'ADP')),\n",
       " (('of', 'ADP'), (\"Georgia's\", 'NOUN')),\n",
       " ((\"Georgia's\", 'NOUN'), ('registration', 'NOUN')),\n",
       " (('registration', 'NOUN'), ('and', 'CONJ')),\n",
       " (('and', 'CONJ'), ('election', 'NOUN')),\n",
       " (('election', 'NOUN'), ('laws', 'NOUN')),\n",
       " (('laws', 'NOUN'), ('``', '.')),\n",
       " (('``', '.'), ('are', 'VERB')),\n",
       " (('are', 'VERB'), ('outmoded', 'ADJ')),\n",
       " (('outmoded', 'ADJ'), ('or', 'CONJ')),\n",
       " (('or', 'CONJ'), ('inadequate', 'ADJ')),\n",
       " (('inadequate', 'ADJ'), ('and', 'CONJ')),\n",
       " (('and', 'CONJ'), ('often', 'ADV')),\n",
       " (('often', 'ADV'), ('ambiguous', 'ADJ')),\n",
       " (('ambiguous', 'ADJ'), (\"''\", '.')),\n",
       " ((\"''\", '.'), ('.', '.')),\n",
       " (('.', '.'), ('It', 'PRON')),\n",
       " (('It', 'PRON'), ('recommended', 'VERB')),\n",
       " (('recommended', 'VERB'), ('that', 'ADP')),\n",
       " (('that', 'ADP'), ('Fulton', 'NOUN')),\n",
       " (('Fulton', 'NOUN'), ('legislators', 'NOUN')),\n",
       " (('legislators', 'NOUN'), ('act', 'VERB')),\n",
       " (('act', 'VERB'), ('``', '.')),\n",
       " (('``', '.'), ('to', 'PRT')),\n",
       " (('to', 'PRT'), ('have', 'VERB')),\n",
       " (('have', 'VERB'), ('these', 'DET')),\n",
       " (('these', 'DET'), ('laws', 'NOUN')),\n",
       " (('laws', 'NOUN'), ('studied', 'VERB')),\n",
       " (('studied', 'VERB'), ('and', 'CONJ')),\n",
       " (('and', 'CONJ'), ('revised', 'VERB')),\n",
       " (('revised', 'VERB'), ('to', 'ADP')),\n",
       " (('to', 'ADP'), ('the', 'DET')),\n",
       " (('the', 'DET'), ('end', 'NOUN')),\n",
       " (('end', 'NOUN'), ('of', 'ADP')),\n",
       " (('of', 'ADP'), ('modernizing', 'VERB')),\n",
       " (('modernizing', 'VERB'), ('and', 'CONJ')),\n",
       " (('and', 'CONJ'), ('improving', 'VERB')),\n",
       " (('improving', 'VERB'), ('them', 'PRON')),\n",
       " (('them', 'PRON'), (\"''\", '.')),\n",
       " ((\"''\", '.'), ('.', '.')),\n",
       " (('.', '.'), ('The', 'DET')),\n",
       " (('The', 'DET'), ('grand', 'ADJ')),\n",
       " (('grand', 'ADJ'), ('jury', 'NOUN')),\n",
       " (('jury', 'NOUN'), ('commented', 'VERB')),\n",
       " (('commented', 'VERB'), ('on', 'ADP')),\n",
       " (('on', 'ADP'), ('a', 'DET')),\n",
       " (('a', 'DET'), ('number', 'NOUN')),\n",
       " (('number', 'NOUN'), ('of', 'ADP')),\n",
       " (('of', 'ADP'), ('other', 'ADJ')),\n",
       " (('other', 'ADJ'), ('topics', 'NOUN')),\n",
       " (('topics', 'NOUN'), (',', '.')),\n",
       " ((',', '.'), ('among', 'ADP')),\n",
       " (('among', 'ADP'), ('them', 'PRON')),\n",
       " (('them', 'PRON'), ('the', 'DET')),\n",
       " (('the', 'DET'), ('Atlanta', 'NOUN')),\n",
       " (('Atlanta', 'NOUN'), ('and', 'CONJ')),\n",
       " (('and', 'CONJ'), ('Fulton', 'NOUN')),\n",
       " (('Fulton', 'NOUN'), ('County', 'NOUN')),\n",
       " (('County', 'NOUN'), ('purchasing', 'VERB')),\n",
       " (('purchasing', 'VERB'), ('departments', 'NOUN')),\n",
       " (('departments', 'NOUN'), ('which', 'DET')),\n",
       " (('which', 'DET'), ('it', 'PRON')),\n",
       " (('it', 'PRON'), ('said', 'VERB')),\n",
       " (('said', 'VERB'), ('``', '.')),\n",
       " (('``', '.'), ('are', 'VERB')),\n",
       " (('are', 'VERB'), ('well', 'ADV')),\n",
       " (('well', 'ADV'), ('operated', 'VERB')),\n",
       " (('operated', 'VERB'), ('and', 'CONJ')),\n",
       " (('and', 'CONJ'), ('follow', 'VERB')),\n",
       " (('follow', 'VERB'), ('generally', 'ADV')),\n",
       " (('generally', 'ADV'), ('accepted', 'VERB')),\n",
       " (('accepted', 'VERB'), ('practices', 'NOUN')),\n",
       " (('practices', 'NOUN'), ('which', 'DET')),\n",
       " (('which', 'DET'), ('inure', 'VERB')),\n",
       " (('inure', 'VERB'), ('to', 'ADP')),\n",
       " (('to', 'ADP'), ('the', 'DET')),\n",
       " (('the', 'DET'), ('best', 'ADJ')),\n",
       " (('best', 'ADJ'), ('interest', 'NOUN')),\n",
       " (('interest', 'NOUN'), ('of', 'ADP')),\n",
       " (('of', 'ADP'), ('both', 'DET')),\n",
       " (('both', 'DET'), ('governments', 'NOUN')),\n",
       " (('governments', 'NOUN'), (\"''\", '.')),\n",
       " ((\"''\", '.'), ('.', '.')),\n",
       " (('.', '.'), ('Merger', 'NOUN')),\n",
       " (('Merger', 'NOUN'), ('proposed', 'VERB')),\n",
       " (('proposed', 'VERB'), ('However', 'ADV')),\n",
       " (('However', 'ADV'), (',', '.')),\n",
       " ((',', '.'), ('the', 'DET')),\n",
       " (('the', 'DET'), ('jury', 'NOUN')),\n",
       " (('jury', 'NOUN'), ('said', 'VERB')),\n",
       " (('said', 'VERB'), ('it', 'PRON')),\n",
       " (('it', 'PRON'), ('believes', 'VERB')),\n",
       " (('believes', 'VERB'), ('``', '.')),\n",
       " (('``', '.'), ('these', 'DET')),\n",
       " (('these', 'DET'), ('two', 'NUM')),\n",
       " (('two', 'NUM'), ('offices', 'NOUN')),\n",
       " (('offices', 'NOUN'), ('should', 'VERB')),\n",
       " (('should', 'VERB'), ('be', 'VERB')),\n",
       " (('be', 'VERB'), ('combined', 'VERB')),\n",
       " (('combined', 'VERB'), ('to', 'PRT')),\n",
       " (('to', 'PRT'), ('achieve', 'VERB')),\n",
       " (('achieve', 'VERB'), ('greater', 'ADJ')),\n",
       " (('greater', 'ADJ'), ('efficiency', 'NOUN')),\n",
       " (('efficiency', 'NOUN'), ('and', 'CONJ')),\n",
       " (('and', 'CONJ'), ('reduce', 'VERB')),\n",
       " (('reduce', 'VERB'), ('the', 'DET')),\n",
       " (('the', 'DET'), ('cost', 'NOUN')),\n",
       " (('cost', 'NOUN'), ('of', 'ADP')),\n",
       " (('of', 'ADP'), ('administration', 'NOUN')),\n",
       " (('administration', 'NOUN'), (\"''\", '.')),\n",
       " ((\"''\", '.'), ('.', '.')),\n",
       " (('.', '.'), ('The', 'DET')),\n",
       " (('The', 'DET'), ('City', 'NOUN')),\n",
       " (('City', 'NOUN'), ('Purchasing', 'VERB')),\n",
       " (('Purchasing', 'VERB'), ('Department', 'NOUN')),\n",
       " (('Department', 'NOUN'), (',', '.')),\n",
       " ((',', '.'), ('the', 'DET')),\n",
       " (('the', 'DET'), ('jury', 'NOUN')),\n",
       " (('jury', 'NOUN'), ('said', 'VERB')),\n",
       " (('said', 'VERB'), (',', '.')),\n",
       " ((',', '.'), ('``', '.')),\n",
       " (('``', '.'), ('is', 'VERB')),\n",
       " (('is', 'VERB'), ('lacking', 'VERB')),\n",
       " (('lacking', 'VERB'), ('in', 'ADP')),\n",
       " (('in', 'ADP'), ('experienced', 'VERB')),\n",
       " (('experienced', 'VERB'), ('clerical', 'ADJ')),\n",
       " (('clerical', 'ADJ'), ('personnel', 'NOUN')),\n",
       " (('personnel', 'NOUN'), ('as', 'ADP')),\n",
       " (('as', 'ADP'), ('a', 'DET')),\n",
       " (('a', 'DET'), ('result', 'NOUN')),\n",
       " (('result', 'NOUN'), ('of', 'ADP')),\n",
       " (('of', 'ADP'), ('city', 'NOUN')),\n",
       " (('city', 'NOUN'), ('personnel', 'NOUN')),\n",
       " (('personnel', 'NOUN'), ('policies', 'NOUN')),\n",
       " (('policies', 'NOUN'), (\"''\", '.')),\n",
       " ((\"''\", '.'), ('.', '.')),\n",
       " (('.', '.'), ('It', 'PRON')),\n",
       " (('It', 'PRON'), ('urged', 'VERB')),\n",
       " (('urged', 'VERB'), ('that', 'ADP')),\n",
       " (('that', 'ADP'), ('the', 'DET')),\n",
       " (('the', 'DET'), ('city', 'NOUN')),\n",
       " (('city', 'NOUN'), ('``', '.')),\n",
       " (('``', '.'), ('take', 'VERB')),\n",
       " (('take', 'VERB'), ('steps', 'NOUN')),\n",
       " (('steps', 'NOUN'), ('to', 'PRT')),\n",
       " (('to', 'PRT'), ('remedy', 'VERB')),\n",
       " (('remedy', 'VERB'), (\"''\", '.')),\n",
       " ((\"''\", '.'), ('this', 'DET')),\n",
       " (('this', 'DET'), ('problem', 'NOUN')),\n",
       " (('problem', 'NOUN'), ('.', '.')),\n",
       " (('.', '.'), ('Implementation', 'NOUN')),\n",
       " (('Implementation', 'NOUN'), ('of', 'ADP')),\n",
       " (('of', 'ADP'), (\"Georgia's\", 'NOUN')),\n",
       " ((\"Georgia's\", 'NOUN'), ('automobile', 'NOUN')),\n",
       " (('automobile', 'NOUN'), ('title', 'NOUN')),\n",
       " (('title', 'NOUN'), ('law', 'NOUN')),\n",
       " (('law', 'NOUN'), ('was', 'VERB')),\n",
       " (('was', 'VERB'), ('also', 'ADV')),\n",
       " (('also', 'ADV'), ('recommended', 'VERB')),\n",
       " (('recommended', 'VERB'), ('by', 'ADP')),\n",
       " (('by', 'ADP'), ('the', 'DET')),\n",
       " (('the', 'DET'), ('outgoing', 'ADJ')),\n",
       " (('outgoing', 'ADJ'), ('jury', 'NOUN')),\n",
       " (('jury', 'NOUN'), ('.', '.')),\n",
       " (('.', '.'), ('It', 'PRON')),\n",
       " (('It', 'PRON'), ('urged', 'VERB')),\n",
       " (('urged', 'VERB'), ('that', 'ADP')),\n",
       " (('that', 'ADP'), ('the', 'DET')),\n",
       " (('the', 'DET'), ('next', 'ADJ')),\n",
       " (('next', 'ADJ'), ('Legislature', 'NOUN')),\n",
       " (('Legislature', 'NOUN'), ('``', '.')),\n",
       " (('``', '.'), ('provide', 'VERB')),\n",
       " (('provide', 'VERB'), ('enabling', 'VERB')),\n",
       " (('enabling', 'VERB'), ('funds', 'NOUN')),\n",
       " (('funds', 'NOUN'), ('and', 'CONJ')),\n",
       " (('and', 'CONJ'), ('re-set', 'VERB')),\n",
       " (('re-set', 'VERB'), ('the', 'DET')),\n",
       " (('the', 'DET'), ('effective', 'ADJ')),\n",
       " (('effective', 'ADJ'), ('date', 'NOUN')),\n",
       " (('date', 'NOUN'), ('so', 'ADP')),\n",
       " (('so', 'ADP'), ('that', 'ADP')),\n",
       " (('that', 'ADP'), ('an', 'DET')),\n",
       " (('an', 'DET'), ('orderly', 'ADJ')),\n",
       " (('orderly', 'ADJ'), ('implementation', 'NOUN')),\n",
       " (('implementation', 'NOUN'), ('of', 'ADP')),\n",
       " (('of', 'ADP'), ('the', 'DET')),\n",
       " (('the', 'DET'), ('law', 'NOUN')),\n",
       " (('law', 'NOUN'), ('may', 'VERB')),\n",
       " (('may', 'VERB'), ('be', 'VERB')),\n",
       " (('be', 'VERB'), ('effected', 'VERB')),\n",
       " (('effected', 'VERB'), (\"''\", '.')),\n",
       " ((\"''\", '.'), ('.', '.')),\n",
       " (('.', '.'), ('The', 'DET')),\n",
       " (('The', 'DET'), ('grand', 'ADJ')),\n",
       " (('grand', 'ADJ'), ('jury', 'NOUN')),\n",
       " (('jury', 'NOUN'), ('took', 'VERB')),\n",
       " (('took', 'VERB'), ('a', 'DET')),\n",
       " (('a', 'DET'), ('swipe', 'NOUN')),\n",
       " (('swipe', 'NOUN'), ('at', 'ADP')),\n",
       " (('at', 'ADP'), ('the', 'DET')),\n",
       " (('the', 'DET'), ('State', 'NOUN')),\n",
       " (('State', 'NOUN'), ('Welfare', 'NOUN')),\n",
       " (('Welfare', 'NOUN'), (\"Department's\", 'NOUN')),\n",
       " ((\"Department's\", 'NOUN'), ('handling', 'NOUN')),\n",
       " (('handling', 'NOUN'), ('of', 'ADP')),\n",
       " (('of', 'ADP'), ('federal', 'ADJ')),\n",
       " (('federal', 'ADJ'), ('funds', 'NOUN')),\n",
       " (('funds', 'NOUN'), ('granted', 'VERB')),\n",
       " (('granted', 'VERB'), ('for', 'ADP')),\n",
       " (('for', 'ADP'), ('child', 'NOUN')),\n",
       " (('child', 'NOUN'), ('welfare', 'NOUN')),\n",
       " (('welfare', 'NOUN'), ('services', 'NOUN')),\n",
       " (('services', 'NOUN'), ('in', 'ADP')),\n",
       " (('in', 'ADP'), ('foster', 'ADJ')),\n",
       " (('foster', 'ADJ'), ('homes', 'NOUN')),\n",
       " (('homes', 'NOUN'), ('.', '.')),\n",
       " (('.', '.'), ('``', '.')),\n",
       " (('``', '.'), ('This', 'DET')),\n",
       " (('This', 'DET'), ('is', 'VERB')),\n",
       " (('is', 'VERB'), ('one', 'NUM')),\n",
       " (('one', 'NUM'), ('of', 'ADP')),\n",
       " (('of', 'ADP'), ('the', 'DET')),\n",
       " (('the', 'DET'), ('major', 'ADJ')),\n",
       " (('major', 'ADJ'), ('items', 'NOUN')),\n",
       " (('items', 'NOUN'), ('in', 'ADP')),\n",
       " (('in', 'ADP'), ('the', 'DET')),\n",
       " (('the', 'DET'), ('Fulton', 'NOUN')),\n",
       " (('Fulton', 'NOUN'), ('County', 'NOUN')),\n",
       " (('County', 'NOUN'), ('general', 'ADJ')),\n",
       " (('general', 'ADJ'), ('assistance', 'NOUN')),\n",
       " (('assistance', 'NOUN'), ('program', 'NOUN')),\n",
       " (('program', 'NOUN'), (\"''\", '.')),\n",
       " ((\"''\", '.'), (',', '.')),\n",
       " ((',', '.'), ('the', 'DET')),\n",
       " (('the', 'DET'), ('jury', 'NOUN')),\n",
       " (('jury', 'NOUN'), ('said', 'VERB')),\n",
       " (('said', 'VERB'), (',', '.')),\n",
       " ((',', '.'), ('but', 'CONJ')),\n",
       " (('but', 'CONJ'), ('the', 'DET')),\n",
       " (('the', 'DET'), ('State', 'NOUN')),\n",
       " (('State', 'NOUN'), ('Welfare', 'NOUN')),\n",
       " (('Welfare', 'NOUN'), ('Department', 'NOUN')),\n",
       " (('Department', 'NOUN'), ('``', '.')),\n",
       " (('``', '.'), ('has', 'VERB')),\n",
       " (('has', 'VERB'), ('seen', 'VERB')),\n",
       " (('seen', 'VERB'), ('fit', 'ADJ')),\n",
       " (('fit', 'ADJ'), ('to', 'PRT')),\n",
       " (('to', 'PRT'), ('distribute', 'VERB')),\n",
       " (('distribute', 'VERB'), ('these', 'DET')),\n",
       " (('these', 'DET'), ('funds', 'NOUN')),\n",
       " (('funds', 'NOUN'), ('through', 'ADP')),\n",
       " (('through', 'ADP'), ('the', 'DET')),\n",
       " (('the', 'DET'), ('welfare', 'NOUN')),\n",
       " (('welfare', 'NOUN'), ('departments', 'NOUN')),\n",
       " (('departments', 'NOUN'), ('of', 'ADP')),\n",
       " (('of', 'ADP'), ('all', 'PRT')),\n",
       " (('all', 'PRT'), ('the', 'DET')),\n",
       " (('the', 'DET'), ('counties', 'NOUN')),\n",
       " (('counties', 'NOUN'), ('in', 'ADP')),\n",
       " (('in', 'ADP'), ('the', 'DET')),\n",
       " (('the', 'DET'), ('state', 'NOUN')),\n",
       " (('state', 'NOUN'), ('with', 'ADP')),\n",
       " (('with', 'ADP'), ('the', 'DET')),\n",
       " (('the', 'DET'), ('exception', 'NOUN')),\n",
       " (('exception', 'NOUN'), ('of', 'ADP')),\n",
       " (('of', 'ADP'), ('Fulton', 'NOUN')),\n",
       " (('Fulton', 'NOUN'), ('County', 'NOUN')),\n",
       " (('County', 'NOUN'), (',', '.')),\n",
       " ((',', '.'), ('which', 'DET')),\n",
       " (('which', 'DET'), ('receives', 'VERB')),\n",
       " (('receives', 'VERB'), ('none', 'NOUN')),\n",
       " (('none', 'NOUN'), ('of', 'ADP')),\n",
       " (('of', 'ADP'), ('this', 'DET')),\n",
       " (('this', 'DET'), ('money', 'NOUN')),\n",
       " (('money', 'NOUN'), ('.', '.')),\n",
       " (('.', '.'), ('The', 'DET')),\n",
       " (('The', 'DET'), ('jurors', 'NOUN')),\n",
       " (('jurors', 'NOUN'), ('said', 'VERB')),\n",
       " (('said', 'VERB'), ('they', 'PRON')),\n",
       " (('they', 'PRON'), ('realize', 'VERB')),\n",
       " (('realize', 'VERB'), ('``', '.')),\n",
       " (('``', '.'), ('a', 'DET')),\n",
       " (('a', 'DET'), ('proportionate', 'ADJ')),\n",
       " (('proportionate', 'ADJ'), ('distribution', 'NOUN')),\n",
       " (('distribution', 'NOUN'), ('of', 'ADP')),\n",
       " (('of', 'ADP'), ('these', 'DET')),\n",
       " (('these', 'DET'), ('funds', 'NOUN')),\n",
       " (('funds', 'NOUN'), ('might', 'VERB')),\n",
       " (('might', 'VERB'), ('disable', 'VERB')),\n",
       " (('disable', 'VERB'), ('this', 'DET')),\n",
       " (('this', 'DET'), ('program', 'NOUN')),\n",
       " (('program', 'NOUN'), ('in', 'ADP')),\n",
       " (('in', 'ADP'), ('our', 'DET')),\n",
       " (('our', 'DET'), ('less', 'ADV')),\n",
       " (('less', 'ADV'), ('populous', 'ADJ')),\n",
       " (('populous', 'ADJ'), ('counties', 'NOUN')),\n",
       " (('counties', 'NOUN'), (\"''\", '.')),\n",
       " ((\"''\", '.'), ('.', '.')),\n",
       " (('.', '.'), ('Nevertheless', 'ADV')),\n",
       " (('Nevertheless', 'ADV'), (',', '.')),\n",
       " ((',', '.'), ('``', '.')),\n",
       " (('``', '.'), ('we', 'PRON')),\n",
       " (('we', 'PRON'), ('feel', 'VERB')),\n",
       " (('feel', 'VERB'), ('that', 'ADP')),\n",
       " (('that', 'ADP'), ('in', 'ADP')),\n",
       " (('in', 'ADP'), ('the', 'DET')),\n",
       " (('the', 'DET'), ('future', 'NOUN')),\n",
       " (('future', 'NOUN'), ('Fulton', 'NOUN')),\n",
       " (('Fulton', 'NOUN'), ('County', 'NOUN')),\n",
       " (('County', 'NOUN'), ('should', 'VERB')),\n",
       " (('should', 'VERB'), ('receive', 'VERB')),\n",
       " (('receive', 'VERB'), ('some', 'DET')),\n",
       " (('some', 'DET'), ('portion', 'NOUN')),\n",
       " (('portion', 'NOUN'), ('of', 'ADP')),\n",
       " (('of', 'ADP'), ('these', 'DET')),\n",
       " (('these', 'DET'), ('available', 'ADJ')),\n",
       " (('available', 'ADJ'), ('funds', 'NOUN')),\n",
       " (('funds', 'NOUN'), (\"''\", '.')),\n",
       " ((\"''\", '.'), (',', '.')),\n",
       " ((',', '.'), ('the', 'DET')),\n",
       " (('the', 'DET'), ('jurors', 'NOUN')),\n",
       " (('jurors', 'NOUN'), ('said', 'VERB')),\n",
       " (('said', 'VERB'), ('.', '.')),\n",
       " (('.', '.'), ('``', '.')),\n",
       " (('``', '.'), ('Failure', 'NOUN')),\n",
       " (('Failure', 'NOUN'), ('to', 'PRT')),\n",
       " (('to', 'PRT'), ('do', 'VERB')),\n",
       " (('do', 'VERB'), ('this', 'DET')),\n",
       " (('this', 'DET'), ('will', 'VERB')),\n",
       " (('will', 'VERB'), ('continue', 'VERB')),\n",
       " (('continue', 'VERB'), ('to', 'PRT')),\n",
       " (('to', 'PRT'), ('place', 'VERB')),\n",
       " (('place', 'VERB'), ('a', 'DET')),\n",
       " (('a', 'DET'), ('disproportionate', 'ADJ')),\n",
       " (('disproportionate', 'ADJ'), ('burden', 'NOUN')),\n",
       " (('burden', 'NOUN'), (\"''\", '.')),\n",
       " ((\"''\", '.'), ('on', 'ADP')),\n",
       " (('on', 'ADP'), ('Fulton', 'NOUN')),\n",
       " (('Fulton', 'NOUN'), ('taxpayers', 'NOUN')),\n",
       " (('taxpayers', 'NOUN'), ('.', '.')),\n",
       " (('.', '.'), ('The', 'DET')),\n",
       " (('The', 'DET'), ('jury', 'NOUN')),\n",
       " (('jury', 'NOUN'), ('also', 'ADV')),\n",
       " (('also', 'ADV'), ('commented', 'VERB')),\n",
       " (('commented', 'VERB'), ('on', 'ADP')),\n",
       " (('on', 'ADP'), ('the', 'DET')),\n",
       " (('the', 'DET'), ('Fulton', 'NOUN')),\n",
       " (('Fulton', 'NOUN'), (\"ordinary's\", 'NOUN')),\n",
       " ((\"ordinary's\", 'NOUN'), ('court', 'NOUN')),\n",
       " (('court', 'NOUN'), ('which', 'DET')),\n",
       " (('which', 'DET'), ('has', 'VERB')),\n",
       " (('has', 'VERB'), ('been', 'VERB')),\n",
       " (('been', 'VERB'), ('under', 'ADP')),\n",
       " (('under', 'ADP'), ('fire', 'NOUN')),\n",
       " (('fire', 'NOUN'), ('for', 'ADP')),\n",
       " (('for', 'ADP'), ('its', 'DET')),\n",
       " (('its', 'DET'), ('practices', 'NOUN')),\n",
       " (('practices', 'NOUN'), ('in', 'ADP')),\n",
       " (('in', 'ADP'), ('the', 'DET')),\n",
       " (('the', 'DET'), ('appointment', 'NOUN')),\n",
       " (('appointment', 'NOUN'), ('of', 'ADP')),\n",
       " (('of', 'ADP'), ('appraisers', 'NOUN')),\n",
       " (('appraisers', 'NOUN'), (',', '.')),\n",
       " ((',', '.'), ('guardians', 'NOUN')),\n",
       " (('guardians', 'NOUN'), ('and', 'CONJ')),\n",
       " (('and', 'CONJ'), ('administrators', 'NOUN')),\n",
       " (('administrators', 'NOUN'), ('and', 'CONJ')),\n",
       " (('and', 'CONJ'), ('the', 'DET')),\n",
       " (('the', 'DET'), ('awarding', 'NOUN')),\n",
       " (('awarding', 'NOUN'), ('of', 'ADP')),\n",
       " (('of', 'ADP'), ('fees', 'NOUN')),\n",
       " (('fees', 'NOUN'), ('and', 'CONJ')),\n",
       " (('and', 'CONJ'), ('compensation', 'NOUN')),\n",
       " (('compensation', 'NOUN'), ('.', '.')),\n",
       " (('.', '.'), ('Wards', 'NOUN')),\n",
       " (('Wards', 'NOUN'), ('protected', 'VERB')),\n",
       " (('protected', 'VERB'), ('The', 'DET')),\n",
       " (('The', 'DET'), ('jury', 'NOUN')),\n",
       " (('jury', 'NOUN'), ('said', 'VERB')),\n",
       " (('said', 'VERB'), ('it', 'PRON')),\n",
       " (('it', 'PRON'), ('found', 'VERB')),\n",
       " (('found', 'VERB'), ('the', 'DET')),\n",
       " (('the', 'DET'), ('court', 'NOUN')),\n",
       " (('court', 'NOUN'), ('``', '.')),\n",
       " (('``', '.'), ('has', 'VERB')),\n",
       " (('has', 'VERB'), ('incorporated', 'VERB')),\n",
       " (('incorporated', 'VERB'), ('into', 'ADP')),\n",
       " (('into', 'ADP'), ('its', 'DET')),\n",
       " (('its', 'DET'), ('operating', 'VERB')),\n",
       " (('operating', 'VERB'), ('procedures', 'NOUN')),\n",
       " (('procedures', 'NOUN'), ('the', 'DET')),\n",
       " (('the', 'DET'), ('recommendations', 'NOUN')),\n",
       " (('recommendations', 'NOUN'), (\"''\", '.')),\n",
       " ((\"''\", '.'), ('of', 'ADP')),\n",
       " (('of', 'ADP'), ('two', 'NUM')),\n",
       " (('two', 'NUM'), ('previous', 'ADJ')),\n",
       " (('previous', 'ADJ'), ('grand', 'ADJ')),\n",
       " (('grand', 'ADJ'), ('juries', 'NOUN')),\n",
       " (('juries', 'NOUN'), (',', '.')),\n",
       " ((',', '.'), ('the', 'DET')),\n",
       " (('the', 'DET'), ('Atlanta', 'NOUN')),\n",
       " (('Atlanta', 'NOUN'), ('Bar', 'NOUN')),\n",
       " (('Bar', 'NOUN'), ('Association', 'NOUN')),\n",
       " (('Association', 'NOUN'), ('and', 'CONJ')),\n",
       " (('and', 'CONJ'), ('an', 'DET')),\n",
       " (('an', 'DET'), ('interim', 'NOUN')),\n",
       " (('interim', 'NOUN'), ('citizens', 'NOUN')),\n",
       " (('citizens', 'NOUN'), ('committee', 'NOUN')),\n",
       " (('committee', 'NOUN'), ('.', '.')),\n",
       " (('.', '.'), ('``', '.')),\n",
       " (('``', '.'), ('These', 'DET')),\n",
       " (('These', 'DET'), ('actions', 'NOUN')),\n",
       " (('actions', 'NOUN'), ('should', 'VERB')),\n",
       " (('should', 'VERB'), ('serve', 'VERB')),\n",
       " (('serve', 'VERB'), ('to', 'PRT')),\n",
       " (('to', 'PRT'), ('protect', 'VERB')),\n",
       " (('protect', 'VERB'), ('in', 'ADP')),\n",
       " (('in', 'ADP'), ('fact', 'NOUN')),\n",
       " (('fact', 'NOUN'), ('and', 'CONJ')),\n",
       " (('and', 'CONJ'), ('in', 'ADP')),\n",
       " (('in', 'ADP'), ('effect', 'NOUN')),\n",
       " (('effect', 'NOUN'), ('the', 'DET')),\n",
       " (('the', 'DET'), (\"court's\", 'NOUN')),\n",
       " ((\"court's\", 'NOUN'), ('wards', 'NOUN')),\n",
       " (('wards', 'NOUN'), ('from', 'ADP')),\n",
       " (('from', 'ADP'), ('undue', 'ADJ')),\n",
       " (('undue', 'ADJ'), ('costs', 'NOUN')),\n",
       " (('costs', 'NOUN'), ('and', 'CONJ')),\n",
       " (('and', 'CONJ'), ('its', 'DET')),\n",
       " (('its', 'DET'), ('appointed', 'VERB')),\n",
       " (('appointed', 'VERB'), ('and', 'CONJ')),\n",
       " (('and', 'CONJ'), ('elected', 'VERB')),\n",
       " (('elected', 'VERB'), ('servants', 'NOUN')),\n",
       " (('servants', 'NOUN'), ('from', 'ADP')),\n",
       " (('from', 'ADP'), ('unmeritorious', 'ADJ')),\n",
       " (('unmeritorious', 'ADJ'), ('criticisms', 'NOUN')),\n",
       " (('criticisms', 'NOUN'), (\"''\", '.')),\n",
       " ((\"''\", '.'), (',', '.')),\n",
       " ((',', '.'), ('the', 'DET')),\n",
       " (('the', 'DET'), ('jury', 'NOUN')),\n",
       " (('jury', 'NOUN'), ('said', 'VERB')),\n",
       " (('said', 'VERB'), ('.', '.')),\n",
       " (('.', '.'), ('Regarding', 'ADP')),\n",
       " (('Regarding', 'ADP'), (\"Atlanta's\", 'NOUN')),\n",
       " ((\"Atlanta's\", 'NOUN'), ('new', 'ADJ')),\n",
       " (('new', 'ADJ'), ('multi-million-dollar', 'ADJ')),\n",
       " (('multi-million-dollar', 'ADJ'), ('airport', 'NOUN')),\n",
       " (('airport', 'NOUN'), (',', '.')),\n",
       " ((',', '.'), ('the', 'DET')),\n",
       " (('the', 'DET'), ('jury', 'NOUN')),\n",
       " (('jury', 'NOUN'), ('recommended', 'VERB')),\n",
       " (('recommended', 'VERB'), ('``', '.')),\n",
       " (('``', '.'), ('that', 'ADP')),\n",
       " (('that', 'ADP'), ('when', 'ADV')),\n",
       " (('when', 'ADV'), ('the', 'DET')),\n",
       " (('the', 'DET'), ('new', 'ADJ')),\n",
       " (('new', 'ADJ'), ('management', 'NOUN')),\n",
       " (('management', 'NOUN'), ('takes', 'VERB')),\n",
       " (('takes', 'VERB'), ('charge', 'NOUN')),\n",
       " (('charge', 'NOUN'), ('Jan.', 'NOUN')),\n",
       " (('Jan.', 'NOUN'), ('1', 'NUM')),\n",
       " (('1', 'NUM'), ('the', 'DET')),\n",
       " (('the', 'DET'), ('airport', 'NOUN')),\n",
       " (('airport', 'NOUN'), ('be', 'VERB')),\n",
       " (('be', 'VERB'), ('operated', 'VERB')),\n",
       " (('operated', 'VERB'), ('in', 'ADP')),\n",
       " (('in', 'ADP'), ('a', 'DET')),\n",
       " (('a', 'DET'), ('manner', 'NOUN')),\n",
       " (('manner', 'NOUN'), ('that', 'PRON')),\n",
       " (('that', 'PRON'), ('will', 'VERB')),\n",
       " (('will', 'VERB'), ('eliminate', 'VERB')),\n",
       " (('eliminate', 'VERB'), ('political', 'ADJ')),\n",
       " (('political', 'ADJ'), ('influences', 'NOUN')),\n",
       " (('influences', 'NOUN'), (\"''\", '.')),\n",
       " ((\"''\", '.'), ('.', '.')),\n",
       " (('.', '.'), ('The', 'DET')),\n",
       " (('The', 'DET'), ('jury', 'NOUN')),\n",
       " (('jury', 'NOUN'), ('did', 'VERB')),\n",
       " (('did', 'VERB'), ('not', 'ADV')),\n",
       " (('not', 'ADV'), ('elaborate', 'VERB')),\n",
       " (('elaborate', 'VERB'), (',', '.')),\n",
       " ((',', '.'), ('but', 'CONJ')),\n",
       " (('but', 'CONJ'), ('it', 'PRON')),\n",
       " (('it', 'PRON'), ('added', 'VERB')),\n",
       " (('added', 'VERB'), ('that', 'ADP')),\n",
       " (('that', 'ADP'), ('``', '.')),\n",
       " (('``', '.'), ('there', 'PRT')),\n",
       " (('there', 'PRT'), ('should', 'VERB')),\n",
       " (('should', 'VERB'), ('be', 'VERB')),\n",
       " (('be', 'VERB'), ('periodic', 'ADJ')),\n",
       " (('periodic', 'ADJ'), ('surveillance', 'NOUN')),\n",
       " (('surveillance', 'NOUN'), ('of', 'ADP')),\n",
       " (('of', 'ADP'), ('the', 'DET')),\n",
       " (('the', 'DET'), ('pricing', 'VERB')),\n",
       " (('pricing', 'VERB'), ('practices', 'NOUN')),\n",
       " (('practices', 'NOUN'), ('of', 'ADP')),\n",
       " (('of', 'ADP'), ('the', 'DET')),\n",
       " (('the', 'DET'), ('concessionaires', 'NOUN')),\n",
       " (('concessionaires', 'NOUN'), ('for', 'ADP')),\n",
       " (('for', 'ADP'), ('the', 'DET')),\n",
       " (('the', 'DET'), ('purpose', 'NOUN')),\n",
       " (('purpose', 'NOUN'), ('of', 'ADP')),\n",
       " (('of', 'ADP'), ('keeping', 'VERB')),\n",
       " (('keeping', 'VERB'), ('the', 'DET')),\n",
       " (('the', 'DET'), ('prices', 'NOUN')),\n",
       " (('prices', 'NOUN'), ('reasonable', 'ADJ')),\n",
       " (('reasonable', 'ADJ'), (\"''\", '.')),\n",
       " ((\"''\", '.'), ('.', '.')),\n",
       " (('.', '.'), ('Ask', 'VERB')),\n",
       " (('Ask', 'VERB'), ('jail', 'NOUN')),\n",
       " (('jail', 'NOUN'), ('deputies', 'NOUN')),\n",
       " (('deputies', 'NOUN'), ('On', 'ADP')),\n",
       " (('On', 'ADP'), ('other', 'ADJ')),\n",
       " (('other', 'ADJ'), ('matters', 'NOUN')),\n",
       " (('matters', 'NOUN'), (',', '.')),\n",
       " ((',', '.'), ('the', 'DET')),\n",
       " (('the', 'DET'), ('jury', 'NOUN')),\n",
       " (('jury', 'NOUN'), ('recommended', 'VERB')),\n",
       " (('recommended', 'VERB'), ('that', 'ADP')),\n",
       " (('that', 'ADP'), (':', '.')),\n",
       " ((':', '.'), ('(', '.')),\n",
       " (('(', '.'), ('1', 'NUM')),\n",
       " (('1', 'NUM'), (')', '.')),\n",
       " ((')', '.'), ('Four', 'NUM')),\n",
       " (('Four', 'NUM'), ('additional', 'ADJ')),\n",
       " (('additional', 'ADJ'), ('deputies', 'NOUN')),\n",
       " (('deputies', 'NOUN'), ('be', 'VERB')),\n",
       " (('be', 'VERB'), ('employed', 'VERB')),\n",
       " (('employed', 'VERB'), ('at', 'ADP')),\n",
       " (('at', 'ADP'), ('the', 'DET')),\n",
       " (('the', 'DET'), ('Fulton', 'NOUN')),\n",
       " (('Fulton', 'NOUN'), ('County', 'NOUN')),\n",
       " (('County', 'NOUN'), ('Jail', 'NOUN')),\n",
       " (('Jail', 'NOUN'), ('and', 'CONJ')),\n",
       " (('and', 'CONJ'), ('``', '.')),\n",
       " (('``', '.'), ('a', 'DET')),\n",
       " (('a', 'DET'), ('doctor', 'NOUN')),\n",
       " (('doctor', 'NOUN'), (',', '.')),\n",
       " ((',', '.'), ('medical', 'ADJ')),\n",
       " (('medical', 'ADJ'), ('intern', 'NOUN')),\n",
       " (('intern', 'NOUN'), ('or', 'CONJ')),\n",
       " (('or', 'CONJ'), ('extern', 'NOUN')),\n",
       " (('extern', 'NOUN'), ('be', 'VERB')),\n",
       " (('be', 'VERB'), ('employed', 'VERB')),\n",
       " (('employed', 'VERB'), ('for', 'ADP')),\n",
       " (('for', 'ADP'), ('night', 'NOUN')),\n",
       " (('night', 'NOUN'), ('and', 'CONJ')),\n",
       " (('and', 'CONJ'), ('weekend', 'NOUN')),\n",
       " (('weekend', 'NOUN'), ('duty', 'NOUN')),\n",
       " (('duty', 'NOUN'), ('at', 'ADP')),\n",
       " (('at', 'ADP'), ('the', 'DET')),\n",
       " (('the', 'DET'), ('jail', 'NOUN')),\n",
       " (('jail', 'NOUN'), (\"''\", '.')),\n",
       " ((\"''\", '.'), ('.', '.')),\n",
       " (('.', '.'), ('(', '.')),\n",
       " (('(', '.'), ('2', 'NUM')),\n",
       " (('2', 'NUM'), (')', '.')),\n",
       " ((')', '.'), ('Fulton', 'NOUN')),\n",
       " (('Fulton', 'NOUN'), ('legislators', 'NOUN')),\n",
       " (('legislators', 'NOUN'), ('``', '.')),\n",
       " (('``', '.'), ('work', 'VERB')),\n",
       " (('work', 'VERB'), ('with', 'ADP')),\n",
       " (('with', 'ADP'), ('city', 'NOUN')),\n",
       " (('city', 'NOUN'), ('officials', 'NOUN')),\n",
       " (('officials', 'NOUN'), ('to', 'PRT')),\n",
       " (('to', 'PRT'), ('pass', 'VERB')),\n",
       " (('pass', 'VERB'), ('enabling', 'VERB')),\n",
       " (('enabling', 'VERB'), ('legislation', 'NOUN')),\n",
       " (('legislation', 'NOUN'), ('that', 'PRON')),\n",
       " (('that', 'PRON'), ('will', 'VERB')),\n",
       " (('will', 'VERB'), ('permit', 'VERB')),\n",
       " (('permit', 'VERB'), ('the', 'DET')),\n",
       " (('the', 'DET'), ('establishment', 'NOUN')),\n",
       " (('establishment', 'NOUN'), ('of', 'ADP')),\n",
       " (('of', 'ADP'), ('a', 'DET')),\n",
       " (('a', 'DET'), ('fair', 'ADJ')),\n",
       " (('fair', 'ADJ'), ('and', 'CONJ')),\n",
       " (('and', 'CONJ'), ('equitable', 'ADJ')),\n",
       " (('equitable', 'ADJ'), (\"''\", '.')),\n",
       " ((\"''\", '.'), ('pension', 'NOUN')),\n",
       " (('pension', 'NOUN'), ('plan', 'NOUN')),\n",
       " (('plan', 'NOUN'), ('for', 'ADP')),\n",
       " (('for', 'ADP'), ('city', 'NOUN')),\n",
       " (('city', 'NOUN'), ('employes', 'NOUN')),\n",
       " (('employes', 'NOUN'), ('.', '.')),\n",
       " (('.', '.'), ('The', 'DET')),\n",
       " (('The', 'DET'), ('jury', 'NOUN')),\n",
       " (('jury', 'NOUN'), ('praised', 'VERB')),\n",
       " (('praised', 'VERB'), ('the', 'DET')),\n",
       " (('the', 'DET'), ('administration', 'NOUN')),\n",
       " (('administration', 'NOUN'), ('and', 'CONJ')),\n",
       " (('and', 'CONJ'), ('operation', 'NOUN')),\n",
       " (('operation', 'NOUN'), ('of', 'ADP')),\n",
       " (('of', 'ADP'), ('the', 'DET')),\n",
       " (('the', 'DET'), ('Atlanta', 'NOUN')),\n",
       " (('Atlanta', 'NOUN'), ('Police', 'NOUN')),\n",
       " (('Police', 'NOUN'), ('Department', 'NOUN')),\n",
       " (('Department', 'NOUN'), (',', '.')),\n",
       " ((',', '.'), ('the', 'DET')),\n",
       " (('the', 'DET'), ('Fulton', 'NOUN')),\n",
       " (('Fulton', 'NOUN'), ('Tax', 'NOUN')),\n",
       " (('Tax', 'NOUN'), (\"Commissioner's\", 'NOUN')),\n",
       " ((\"Commissioner's\", 'NOUN'), ('Office', 'NOUN')),\n",
       " (('Office', 'NOUN'), (',', '.')),\n",
       " ((',', '.'), ('the', 'DET')),\n",
       " (('the', 'DET'), ('Bellwood', 'NOUN')),\n",
       " (('Bellwood', 'NOUN'), ('and', 'CONJ')),\n",
       " (('and', 'CONJ'), ('Alpharetta', 'NOUN')),\n",
       " (('Alpharetta', 'NOUN'), ('prison', 'NOUN')),\n",
       " (('prison', 'NOUN'), ('farms', 'NOUN')),\n",
       " (('farms', 'NOUN'), (',', '.')),\n",
       " ((',', '.'), ('Grady', 'NOUN')),\n",
       " (('Grady', 'NOUN'), ('Hospital', 'NOUN')),\n",
       " (('Hospital', 'NOUN'), ('and', 'CONJ')),\n",
       " (('and', 'CONJ'), ('the', 'DET')),\n",
       " (('the', 'DET'), ('Fulton', 'NOUN')),\n",
       " (('Fulton', 'NOUN'), ('Health', 'NOUN')),\n",
       " (('Health', 'NOUN'), ('Department', 'NOUN')),\n",
       " (('Department', 'NOUN'), ('.', '.')),\n",
       " (('.', '.'), ('Mayor', 'NOUN')),\n",
       " (('Mayor', 'NOUN'), ('William', 'NOUN')),\n",
       " (('William', 'NOUN'), ('B.', 'NOUN')),\n",
       " (('B.', 'NOUN'), ('Hartsfield', 'NOUN')),\n",
       " (('Hartsfield', 'NOUN'), ('filed', 'VERB')),\n",
       " (('filed', 'VERB'), ('suit', 'NOUN')),\n",
       " (('suit', 'NOUN'), ('for', 'ADP')),\n",
       " (('for', 'ADP'), ('divorce', 'NOUN')),\n",
       " (('divorce', 'NOUN'), ('from', 'ADP')),\n",
       " (('from', 'ADP'), ('his', 'DET')),\n",
       " (('his', 'DET'), ('wife', 'NOUN')),\n",
       " (('wife', 'NOUN'), (',', '.')),\n",
       " ((',', '.'), ('Pearl', 'NOUN')),\n",
       " (('Pearl', 'NOUN'), ('Williams', 'NOUN')),\n",
       " (('Williams', 'NOUN'), ('Hartsfield', 'NOUN')),\n",
       " (('Hartsfield', 'NOUN'), (',', '.')),\n",
       " ((',', '.'), ('in', 'ADP')),\n",
       " (('in', 'ADP'), ('Fulton', 'NOUN')),\n",
       " (('Fulton', 'NOUN'), ('Superior', 'ADJ')),\n",
       " (('Superior', 'ADJ'), ('Court', 'NOUN')),\n",
       " (('Court', 'NOUN'), ('Friday', 'NOUN')),\n",
       " (('Friday', 'NOUN'), ('.', '.')),\n",
       " (('.', '.'), ('His', 'DET')),\n",
       " (('His', 'DET'), ('petition', 'NOUN')),\n",
       " (('petition', 'NOUN'), ('charged', 'VERB')),\n",
       " (('charged', 'VERB'), ('mental', 'ADJ')),\n",
       " (('mental', 'ADJ'), ('cruelty', 'NOUN')),\n",
       " (('cruelty', 'NOUN'), ('.', '.')),\n",
       " (('.', '.'), ('The', 'DET')),\n",
       " (('The', 'DET'), ('couple', 'NOUN')),\n",
       " (('couple', 'NOUN'), ('was', 'VERB')),\n",
       " (('was', 'VERB'), ('married', 'VERB')),\n",
       " (('married', 'VERB'), ('Aug.', 'NOUN')),\n",
       " (('Aug.', 'NOUN'), ('2', 'NUM')),\n",
       " (('2', 'NUM'), (',', '.')),\n",
       " ((',', '.'), ('1913', 'NUM')),\n",
       " (('1913', 'NUM'), ('.', '.')),\n",
       " (('.', '.'), ('They', 'PRON')),\n",
       " (('They', 'PRON'), ('have', 'VERB')),\n",
       " (('have', 'VERB'), ('a', 'DET')),\n",
       " (('a', 'DET'), ('son', 'NOUN')),\n",
       " (('son', 'NOUN'), (',', '.')),\n",
       " ((',', '.'), ('William', 'NOUN')),\n",
       " (('William', 'NOUN'), ('Berry', 'NOUN')),\n",
       " (('Berry', 'NOUN'), ('Jr.', 'NOUN')),\n",
       " (('Jr.', 'NOUN'), (',', '.')),\n",
       " ((',', '.'), ('and', 'CONJ')),\n",
       " (('and', 'CONJ'), ('a', 'DET')),\n",
       " (('a', 'DET'), ('daughter', 'NOUN')),\n",
       " (('daughter', 'NOUN'), (',', '.')),\n",
       " ((',', '.'), ('Mrs.', 'NOUN')),\n",
       " (('Mrs.', 'NOUN'), ('J.', 'NOUN')),\n",
       " (('J.', 'NOUN'), ('M.', 'NOUN')),\n",
       " (('M.', 'NOUN'), ('Cheshire', 'NOUN')),\n",
       " (('Cheshire', 'NOUN'), ('of', 'ADP')),\n",
       " (('of', 'ADP'), ('Griffin', 'NOUN')),\n",
       " (('Griffin', 'NOUN'), ('.', '.')),\n",
       " (('.', '.'), ('Attorneys', 'NOUN')),\n",
       " (('Attorneys', 'NOUN'), ('for', 'ADP')),\n",
       " (('for', 'ADP'), ('the', 'DET')),\n",
       " (('the', 'DET'), ('mayor', 'NOUN')),\n",
       " (('mayor', 'NOUN'), ('said', 'VERB')),\n",
       " (('said', 'VERB'), ('that', 'ADP')),\n",
       " (('that', 'ADP'), ('an', 'DET')),\n",
       " (('an', 'DET'), ('amicable', 'ADJ')),\n",
       " (('amicable', 'ADJ'), ('property', 'NOUN')),\n",
       " (('property', 'NOUN'), ('settlement', 'NOUN')),\n",
       " (('settlement', 'NOUN'), ('has', 'VERB')),\n",
       " (('has', 'VERB'), ('been', 'VERB')),\n",
       " (('been', 'VERB'), ('agreed', 'VERB')),\n",
       " (('agreed', 'VERB'), ('upon', 'ADV')),\n",
       " (('upon', 'ADV'), ('.', '.')),\n",
       " (('.', '.'), ('The', 'DET')),\n",
       " (('The', 'DET'), ('petition', 'NOUN')),\n",
       " (('petition', 'NOUN'), ('listed', 'VERB')),\n",
       " (('listed', 'VERB'), ('the', 'DET')),\n",
       " (('the', 'DET'), (\"mayor's\", 'NOUN')),\n",
       " ((\"mayor's\", 'NOUN'), ('occupation', 'NOUN')),\n",
       " (('occupation', 'NOUN'), ('as', 'ADP')),\n",
       " (('as', 'ADP'), ('``', '.')),\n",
       " (('``', '.'), ('attorney', 'NOUN')),\n",
       " (('attorney', 'NOUN'), (\"''\", '.')),\n",
       " ((\"''\", '.'), ('and', 'CONJ')),\n",
       " (('and', 'CONJ'), ('his', 'DET')),\n",
       " (('his', 'DET'), ('age', 'NOUN')),\n",
       " (('age', 'NOUN'), ('as', 'ADP')),\n",
       " (('as', 'ADP'), ('71', 'NUM')),\n",
       " (('71', 'NUM'), ('.', '.')),\n",
       " (('.', '.'), ('It', 'PRON')),\n",
       " (('It', 'PRON'), ('listed', 'VERB')),\n",
       " (('listed', 'VERB'), ('his', 'DET')),\n",
       " (('his', 'DET'), (\"wife's\", 'NOUN')),\n",
       " ((\"wife's\", 'NOUN'), ('age', 'NOUN')),\n",
       " (('age', 'NOUN'), ('as', 'ADP')),\n",
       " (('as', 'ADP'), ('74', 'NUM')),\n",
       " (('74', 'NUM'), ('and', 'CONJ')),\n",
       " (('and', 'CONJ'), ('place', 'NOUN')),\n",
       " (('place', 'NOUN'), ('of', 'ADP')),\n",
       " (('of', 'ADP'), ('birth', 'NOUN')),\n",
       " (('birth', 'NOUN'), ('as', 'ADP')),\n",
       " (('as', 'ADP'), ('Opelika', 'NOUN')),\n",
       " (('Opelika', 'NOUN'), (',', '.')),\n",
       " ((',', '.'), ('Ala.', 'NOUN')),\n",
       " (('Ala.', 'NOUN'), ('.', '.')),\n",
       " (('.', '.'), ('The', 'DET')),\n",
       " (('The', 'DET'), ('petition', 'NOUN')),\n",
       " (('petition', 'NOUN'), ('said', 'VERB')),\n",
       " (('said', 'VERB'), ('that', 'ADP')),\n",
       " (('that', 'ADP'), ('the', 'DET')),\n",
       " (('the', 'DET'), ('couple', 'NOUN')),\n",
       " (('couple', 'NOUN'), ('has', 'VERB')),\n",
       " (('has', 'VERB'), ('not', 'ADV')),\n",
       " (('not', 'ADV'), ('lived', 'VERB')),\n",
       " (('lived', 'VERB'), ('together', 'ADV')),\n",
       " (('together', 'ADV'), ('as', 'ADP')),\n",
       " (('as', 'ADP'), ('man', 'NOUN')),\n",
       " (('man', 'NOUN'), ('and', 'CONJ')),\n",
       " (('and', 'CONJ'), ('wife', 'NOUN')),\n",
       " (('wife', 'NOUN'), ('for', 'ADP')),\n",
       " (('for', 'ADP'), ('more', 'ADJ')),\n",
       " (('more', 'ADJ'), ('than', 'ADP')),\n",
       " (('than', 'ADP'), ('a', 'DET')),\n",
       " (('a', 'DET'), ('year', 'NOUN')),\n",
       " (('year', 'NOUN'), ('.', '.')),\n",
       " (('.', '.'), ('The', 'DET')),\n",
       " (('The', 'DET'), ('Hartsfield', 'NOUN')),\n",
       " (('Hartsfield', 'NOUN'), ('home', 'NOUN')),\n",
       " (('home', 'NOUN'), ('is', 'VERB')),\n",
       " (('is', 'VERB'), ('at', 'ADP')),\n",
       " (('at', 'ADP'), ('637', 'NUM')),\n",
       " (('637', 'NUM'), ('E.', 'NOUN')),\n",
       " (('E.', 'NOUN'), ('Pelham', 'NOUN')),\n",
       " (('Pelham', 'NOUN'), ('Rd.', 'NOUN')),\n",
       " (('Rd.', 'NOUN'), ('Aj', 'NOUN')),\n",
       " (('Aj', 'NOUN'), ('.', '.')),\n",
       " (('.', '.'), ('Henry', 'NOUN')),\n",
       " (('Henry', 'NOUN'), ('L.', 'NOUN')),\n",
       " (('L.', 'NOUN'), ('Bowden', 'NOUN')),\n",
       " (('Bowden', 'NOUN'), ('was', 'VERB')),\n",
       " (('was', 'VERB'), ('listed', 'VERB')),\n",
       " (('listed', 'VERB'), ('on', 'ADP')),\n",
       " (('on', 'ADP'), ('the', 'DET')),\n",
       " (('the', 'DET'), ('petition', 'NOUN')),\n",
       " (('petition', 'NOUN'), ('as', 'ADP')),\n",
       " (('as', 'ADP'), ('the', 'DET')),\n",
       " (('the', 'DET'), (\"mayor's\", 'NOUN')),\n",
       " ((\"mayor's\", 'NOUN'), ('attorney', 'NOUN')),\n",
       " (('attorney', 'NOUN'), ('.', '.')),\n",
       " (('.', '.'), ('Hartsfield', 'NOUN')),\n",
       " (('Hartsfield', 'NOUN'), ('has', 'VERB')),\n",
       " (('has', 'VERB'), ('been', 'VERB')),\n",
       " (('been', 'VERB'), ('mayor', 'NOUN')),\n",
       " (('mayor', 'NOUN'), ('of', 'ADP')),\n",
       " (('of', 'ADP'), ('Atlanta', 'NOUN')),\n",
       " (('Atlanta', 'NOUN'), (',', '.')),\n",
       " ((',', '.'), ('with', 'ADP')),\n",
       " (('with', 'ADP'), ('exception', 'NOUN')),\n",
       " (('exception', 'NOUN'), ('of', 'ADP')),\n",
       " (('of', 'ADP'), ('one', 'NUM')),\n",
       " (('one', 'NUM'), ('brief', 'ADJ')),\n",
       " (('brief', 'ADJ'), ('interlude', 'NOUN')),\n",
       " (('interlude', 'NOUN'), (',', '.')),\n",
       " ((',', '.'), ('since', 'ADP')),\n",
       " (('since', 'ADP'), ('1937', 'NUM')),\n",
       " (('1937', 'NUM'), ('.', '.')),\n",
       " (('.', '.'), ('His', 'DET')),\n",
       " (('His', 'DET'), ('political', 'ADJ')),\n",
       " (('political', 'ADJ'), ('career', 'NOUN')),\n",
       " (('career', 'NOUN'), ('goes', 'VERB')),\n",
       " (('goes', 'VERB'), ('back', 'ADV')),\n",
       " (('back', 'ADV'), ('to', 'ADP')),\n",
       " (('to', 'ADP'), ('his', 'DET')),\n",
       " (('his', 'DET'), ('election', 'NOUN')),\n",
       " (('election', 'NOUN'), ('to', 'ADP')),\n",
       " (('to', 'ADP'), ('city', 'NOUN')),\n",
       " (('city', 'NOUN'), ('council', 'NOUN')),\n",
       " (('council', 'NOUN'), ('in', 'ADP')),\n",
       " (('in', 'ADP'), ('1923', 'NUM')),\n",
       " (('1923', 'NUM'), ('.', '.')),\n",
       " (('.', '.'), ('The', 'DET')),\n",
       " (('The', 'DET'), (\"mayor's\", 'NOUN')),\n",
       " ((\"mayor's\", 'NOUN'), ('present', 'ADJ')),\n",
       " (('present', 'ADJ'), ('term', 'NOUN')),\n",
       " (('term', 'NOUN'), ('of', 'ADP')),\n",
       " (('of', 'ADP'), ('office', 'NOUN')),\n",
       " (('office', 'NOUN'), ('expires', 'VERB')),\n",
       " (('expires', 'VERB'), ('Jan.', 'NOUN')),\n",
       " (('Jan.', 'NOUN'), ('1', 'NUM')),\n",
       " (('1', 'NUM'), ('.', '.')),\n",
       " (('.', '.'), ('He', 'PRON')),\n",
       " (('He', 'PRON'), ('will', 'VERB')),\n",
       " (('will', 'VERB'), ('be', 'VERB')),\n",
       " (('be', 'VERB'), ('succeeded', 'VERB')),\n",
       " (('succeeded', 'VERB'), ('by', 'ADP')),\n",
       " (('by', 'ADP'), ('Ivan', 'NOUN')),\n",
       " (('Ivan', 'NOUN'), ('Allen', 'NOUN')),\n",
       " (('Allen', 'NOUN'), ('Jr.', 'NOUN')),\n",
       " (('Jr.', 'NOUN'), (',', '.')),\n",
       " ((',', '.'), ('who', 'PRON')),\n",
       " (('who', 'PRON'), ('became', 'VERB')),\n",
       " (('became', 'VERB'), ('a', 'DET')),\n",
       " (('a', 'DET'), ('candidate', 'NOUN')),\n",
       " (('candidate', 'NOUN'), ('in', 'ADP')),\n",
       " (('in', 'ADP'), ('the', 'DET')),\n",
       " (('the', 'DET'), ('Sept.', 'NOUN')),\n",
       " (('Sept.', 'NOUN'), ('13', 'NUM')),\n",
       " (('13', 'NUM'), ('primary', 'NOUN')),\n",
       " (('primary', 'NOUN'), ('after', 'ADP')),\n",
       " (('after', 'ADP'), ('Mayor', 'NOUN')),\n",
       " (('Mayor', 'NOUN'), ('Hartsfield', 'NOUN')),\n",
       " (('Hartsfield', 'NOUN'), ('announced', 'VERB')),\n",
       " (('announced', 'VERB'), ('that', 'ADP')),\n",
       " (('that', 'ADP'), ('he', 'PRON')),\n",
       " (('he', 'PRON'), ('would', 'VERB')),\n",
       " (('would', 'VERB'), ('not', 'ADV')),\n",
       " (('not', 'ADV'), ('run', 'VERB')),\n",
       " (('run', 'VERB'), ('for', 'ADP')),\n",
       " (('for', 'ADP'), ('reelection', 'NOUN')),\n",
       " (('reelection', 'NOUN'), ('.', '.')),\n",
       " (('.', '.'), ('Georgia', 'NOUN')),\n",
       " (('Georgia', 'NOUN'), ('Republicans', 'NOUN')),\n",
       " (('Republicans', 'NOUN'), ('are', 'VERB')),\n",
       " (('are', 'VERB'), ('getting', 'VERB')),\n",
       " (('getting', 'VERB'), ('strong', 'ADJ')),\n",
       " (('strong', 'ADJ'), ('encouragement', 'NOUN')),\n",
       " (('encouragement', 'NOUN'), ('to', 'PRT')),\n",
       " (('to', 'PRT'), ('enter', 'VERB')),\n",
       " (('enter', 'VERB'), ('a', 'DET')),\n",
       " (('a', 'DET'), ('candidate', 'NOUN')),\n",
       " (('candidate', 'NOUN'), ('in', 'ADP')),\n",
       " (('in', 'ADP'), ('the', 'DET')),\n",
       " (('the', 'DET'), ('1962', 'NUM')),\n",
       " (('1962', 'NUM'), (\"governor's\", 'NOUN')),\n",
       " ((\"governor's\", 'NOUN'), ('race', 'NOUN')),\n",
       " ...]"
      ]
     },
     "execution_count": 50,
     "metadata": {},
     "output_type": "execute_result"
    }
   ],
   "source": [
    "list(tags)"
   ]
  },
  {
   "cell_type": "code",
   "execution_count": 51,
   "metadata": {},
   "outputs": [],
   "source": [
    "noun = [a[1] for (a,b) in tags if b[1]=='NOUN']\n",
    "fd = nltk.FreqDist(noun)"
   ]
  },
  {
   "cell_type": "code",
   "execution_count": 52,
   "metadata": {},
   "outputs": [
    {
     "data": {
      "text/plain": [
       "FreqDist({})"
      ]
     },
     "execution_count": 52,
     "metadata": {},
     "output_type": "execute_result"
    }
   ],
   "source": [
    "fd"
   ]
  },
  {
   "cell_type": "code",
   "execution_count": 53,
   "metadata": {},
   "outputs": [
    {
     "data": {
      "text/plain": [
       "[]"
      ]
     },
     "execution_count": 53,
     "metadata": {},
     "output_type": "execute_result"
    }
   ],
   "source": [
    "[tag for(tag,_) in fd.most_common()]"
   ]
  },
  {
   "cell_type": "code",
   "execution_count": 54,
   "metadata": {},
   "outputs": [
    {
     "data": {
      "text/plain": [
       "[]"
      ]
     },
     "execution_count": 54,
     "metadata": {},
     "output_type": "execute_result"
    }
   ],
   "source": [
    "noun"
   ]
  },
  {
   "cell_type": "code",
   "execution_count": 19,
   "metadata": {},
   "outputs": [],
   "source": [
    "from nltk.util import bigrams, trigrams,ngrams"
   ]
  },
  {
   "cell_type": "code",
   "execution_count": 38,
   "metadata": {},
   "outputs": [],
   "source": [
    "text= \"The sky is beautiful and it is blue in color\""
   ]
  },
  {
   "cell_type": "code",
   "execution_count": 39,
   "metadata": {},
   "outputs": [],
   "source": [
    "tokens = nltk.word_tokenize(text)"
   ]
  },
  {
   "cell_type": "code",
   "execution_count": 40,
   "metadata": {},
   "outputs": [
    {
     "data": {
      "text/plain": [
       "['The', 'sky', 'is', 'beautiful', 'and', 'it', 'is', 'blue', 'in', 'color']"
      ]
     },
     "execution_count": 40,
     "metadata": {},
     "output_type": "execute_result"
    }
   ],
   "source": [
    "tokens"
   ]
  },
  {
   "cell_type": "code",
   "execution_count": 43,
   "metadata": {},
   "outputs": [],
   "source": [
    "bigrass = list(nltk.bigrams(tokens))"
   ]
  },
  {
   "cell_type": "code",
   "execution_count": 44,
   "metadata": {},
   "outputs": [
    {
     "data": {
      "text/plain": [
       "[('The', 'sky'),\n",
       " ('sky', 'is'),\n",
       " ('is', 'beautiful'),\n",
       " ('beautiful', 'and'),\n",
       " ('and', 'it'),\n",
       " ('it', 'is'),\n",
       " ('is', 'blue'),\n",
       " ('blue', 'in'),\n",
       " ('in', 'color')]"
      ]
     },
     "execution_count": 44,
     "metadata": {},
     "output_type": "execute_result"
    }
   ],
   "source": [
    "bigrass"
   ]
  },
  {
   "cell_type": "code",
   "execution_count": 45,
   "metadata": {},
   "outputs": [
    {
     "data": {
      "text/plain": [
       "[('The', 'sky', 'is'),\n",
       " ('sky', 'is', 'beautiful'),\n",
       " ('is', 'beautiful', 'and'),\n",
       " ('beautiful', 'and', 'it'),\n",
       " ('and', 'it', 'is'),\n",
       " ('it', 'is', 'blue'),\n",
       " ('is', 'blue', 'in'),\n",
       " ('blue', 'in', 'color')]"
      ]
     },
     "execution_count": 45,
     "metadata": {},
     "output_type": "execute_result"
    }
   ],
   "source": [
    "trigrass = list(nltk.trigrams(tokens))\n",
    "trigrass"
   ]
  },
  {
   "cell_type": "code",
   "execution_count": 46,
   "metadata": {},
   "outputs": [],
   "source": [
    "ngrass = list(nltk.ngrams(tokens,6))"
   ]
  },
  {
   "cell_type": "code",
   "execution_count": 47,
   "metadata": {},
   "outputs": [
    {
     "data": {
      "text/plain": [
       "[('The', 'sky', 'is', 'beautiful', 'and', 'it'),\n",
       " ('sky', 'is', 'beautiful', 'and', 'it', 'is'),\n",
       " ('is', 'beautiful', 'and', 'it', 'is', 'blue'),\n",
       " ('beautiful', 'and', 'it', 'is', 'blue', 'in'),\n",
       " ('and', 'it', 'is', 'blue', 'in', 'color')]"
      ]
     },
     "execution_count": 47,
     "metadata": {},
     "output_type": "execute_result"
    }
   ],
   "source": [
    "ngrass"
   ]
  },
  {
   "cell_type": "code",
   "execution_count": null,
   "metadata": {},
   "outputs": [],
   "source": []
  }
 ],
 "metadata": {
  "kernelspec": {
   "display_name": "Python 3",
   "language": "python",
   "name": "python3"
  },
  "language_info": {
   "codemirror_mode": {
    "name": "ipython",
    "version": 3
   },
   "file_extension": ".py",
   "mimetype": "text/x-python",
   "name": "python",
   "nbconvert_exporter": "python",
   "pygments_lexer": "ipython3",
   "version": "3.7.6"
  }
 },
 "nbformat": 4,
 "nbformat_minor": 4
}
